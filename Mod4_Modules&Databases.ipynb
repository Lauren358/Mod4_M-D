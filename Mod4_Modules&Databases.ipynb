{
 "cells": [
  {
   "cell_type": "code",
   "execution_count": 9,
   "id": "18f64743-241b-420c-b502-4d7d38ecf2cc",
   "metadata": {},
   "outputs": [
    {
     "name": "stdout",
     "output_type": "stream",
     "text": [
      "Open 9-5 daily\n"
     ]
    }
   ],
   "source": [
    "\"\"\"Create a file called zoo.py. In it, define a function called hours() that prints the string 'Open 9-5 daily'. \n",
    "Then, use the interactive interpreter to import the zoo module and call its hours() function.\"\"\"\n",
    "import zoo\n",
    "hours= zoo.hours()\n"
   ]
  },
  {
   "cell_type": "code",
   "execution_count": 11,
   "id": "a69bc933-b800-4a11-af59-e676a3dd57a0",
   "metadata": {},
   "outputs": [
    {
     "name": "stdout",
     "output_type": "stream",
     "text": [
      "Open 9-5 daily\n"
     ]
    }
   ],
   "source": [
    "\"\"\" In the interactive interpreter, import the zoo module as menagerie and call its hours() function.\"\"\"\n",
    "import zoo as menagerie\n",
    "hours = menagerie.hours()"
   ]
  },
  {
   "cell_type": "code",
   "execution_count": 1,
   "id": "4346e689-c3c9-4469-ad24-c10089ee8295",
   "metadata": {},
   "outputs": [
    {
     "ename": "AttributeError",
     "evalue": "'Engine' object has no attribute 'execute'",
     "output_type": "error",
     "traceback": [
      "\u001b[1;31m---------------------------------------------------------------------------\u001b[0m",
      "\u001b[1;31mAttributeError\u001b[0m                            Traceback (most recent call last)",
      "Cell \u001b[1;32mIn[1], line 6\u001b[0m\n\u001b[0;32m      4\u001b[0m conn \u001b[38;5;241m=\u001b[39m sqlalchemy\u001b[38;5;241m.\u001b[39mcreate_engine(\u001b[38;5;124m'\u001b[39m\u001b[38;5;124msqlite:///books.db\u001b[39m\u001b[38;5;124m'\u001b[39m)\n\u001b[0;32m      5\u001b[0m sql \u001b[38;5;241m=\u001b[39m \u001b[38;5;124m'\u001b[39m\u001b[38;5;124mselect title from book order by title asc\u001b[39m\u001b[38;5;124m'\u001b[39m\n\u001b[1;32m----> 6\u001b[0m rows \u001b[38;5;241m=\u001b[39m conn\u001b[38;5;241m.\u001b[39mexecute(sql)\n\u001b[0;32m      7\u001b[0m \u001b[38;5;28;01mfor\u001b[39;00m row \u001b[38;5;129;01min\u001b[39;00m rows:\n\u001b[0;32m      8\u001b[0m     \u001b[38;5;28mprint\u001b[39m(row)\n",
      "\u001b[1;31mAttributeError\u001b[0m: 'Engine' object has no attribute 'execute'"
     ]
    }
   ],
   "source": [
    "\"\"\"16.8 Use the sqlalchemy module to connect to the sqlite3 database books.db that you just made in exercise 16.4. \n",
    "As in 16.6, select and print the title column from the book table in alphabetical order.\"\"\"\n",
    "import sqlalchemy as sa\n",
    "conn = sa.create_engine('books.db')\n",
    "meta = sa.MetaData\n",
    "books = sa.Table('books', meta, \n",
    "                 sa.Column('title', sa.String, primary_key=True),\n",
    "                 sa.Column('author', sa.String,), \n",
    "                 sa.Column('year', sa.Integer))\n",
    "meta.create_all(conn)\n",
    "conn.execute(books.insert ('The Weirdstone of Brisingamen','Alan Garner' ,1960 ))\n",
    "conn.execute(books.insert ('Perdido Street Station', 'China Miéville', 2000))\n",
    "conn.execute(books.insert ('Thud!', 'Terry Pratchett',2005 ))\n",
    "conn.execute(books.insert ('The Spellman Files', 'Lisa Lutz',2007 ))\n",
    "conn.execute(books.insert ('Small Gods', 'Terry Pratchett',1992 ))\n",
    "\n",
    "sql = 'select title from book order by title asc'\n",
    "rows = conn.execute(sql)\n",
    "for row in rows:\n",
    "    print(row)\n",
    "\n",
    "   "
   ]
  },
  {
   "cell_type": "code",
   "execution_count": null,
   "id": "12595271-3e00-44cf-8122-11af5d46e9e4",
   "metadata": {},
   "outputs": [],
   "source": []
  }
 ],
 "metadata": {
  "kernelspec": {
   "display_name": "Python 3 (ipykernel)",
   "language": "python",
   "name": "python3"
  },
  "language_info": {
   "codemirror_mode": {
    "name": "ipython",
    "version": 3
   },
   "file_extension": ".py",
   "mimetype": "text/x-python",
   "name": "python",
   "nbconvert_exporter": "python",
   "pygments_lexer": "ipython3",
   "version": "3.12.4"
  }
 },
 "nbformat": 4,
 "nbformat_minor": 5
}
